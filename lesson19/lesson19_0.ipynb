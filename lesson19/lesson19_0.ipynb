{
 "cells": [
  {
   "cell_type": "code",
   "execution_count": 1,
   "metadata": {},
   "outputs": [
    {
     "name": "stdout",
     "output_type": "stream",
     "text": [
      "<class 'pandas.core.frame.DataFrame'>\n",
      "RangeIndex: 3065 entries, 0 to 3064\n",
      "Data columns (total 18 columns):\n",
      " #   Column  Non-Null Count  Dtype  \n",
      "---  ------  --------------  -----  \n",
      " 0   年別      3065 non-null   int64  \n",
      " 1   類型      3065 non-null   object \n",
      " 2   觀光遊憩區   3065 non-null   object \n",
      " 3   細分      3065 non-null   object \n",
      " 4   縣市別     3065 non-null   object \n",
      " 5   1月      3064 non-null   float64\n",
      " 6   2月      3064 non-null   float64\n",
      " 7   3月      3064 non-null   float64\n",
      " 8   4月      3064 non-null   float64\n",
      " 9   5月      3064 non-null   float64\n",
      " 10  6月      3064 non-null   float64\n",
      " 11  7月      3064 non-null   float64\n",
      " 12  8月      3064 non-null   float64\n",
      " 13  9月      3064 non-null   float64\n",
      " 14  10月     3064 non-null   float64\n",
      " 15  11月     2741 non-null   float64\n",
      " 16  12月     2741 non-null   float64\n",
      " 17  合計      3065 non-null   int64  \n",
      "dtypes: float64(12), int64(2), object(4)\n",
      "memory usage: 431.1+ KB\n"
     ]
    }
   ],
   "source": [
    "import pandas as pd\n",
    "\n",
    "df = pd.read_csv('歷年國內主要觀光遊憩據點遊客人數月別統計.csv')\n",
    "df.info()"
   ]
  },
  {
   "cell_type": "code",
   "execution_count": 2,
   "metadata": {},
   "outputs": [
    {
     "name": "stdout",
     "output_type": "stream",
     "text": [
      "<class 'pandas.core.frame.DataFrame'>\n",
      "Index: 2741 entries, 0 to 2741\n",
      "Data columns (total 18 columns):\n",
      " #   Column  Non-Null Count  Dtype  \n",
      "---  ------  --------------  -----  \n",
      " 0   年別      2741 non-null   int64  \n",
      " 1   類型      2741 non-null   object \n",
      " 2   觀光遊憩區   2741 non-null   object \n",
      " 3   細分      2741 non-null   object \n",
      " 4   縣市別     2741 non-null   object \n",
      " 5   1月      2741 non-null   float64\n",
      " 6   2月      2741 non-null   float64\n",
      " 7   3月      2741 non-null   float64\n",
      " 8   4月      2741 non-null   float64\n",
      " 9   5月      2741 non-null   float64\n",
      " 10  6月      2741 non-null   float64\n",
      " 11  7月      2741 non-null   float64\n",
      " 12  8月      2741 non-null   float64\n",
      " 13  9月      2741 non-null   float64\n",
      " 14  10月     2741 non-null   float64\n",
      " 15  11月     2741 non-null   float64\n",
      " 16  12月     2741 non-null   float64\n",
      " 17  合計      2741 non-null   int64  \n",
      "dtypes: float64(12), int64(2), object(4)\n",
      "memory usage: 406.9+ KB\n"
     ]
    }
   ],
   "source": [
    "df1 = df.dropna()\n",
    "df1.info()"
   ]
  },
  {
   "cell_type": "code",
   "execution_count": 3,
   "metadata": {},
   "outputs": [
    {
     "data": {
      "text/html": [
       "<div>\n",
       "<style scoped>\n",
       "    .dataframe tbody tr th:only-of-type {\n",
       "        vertical-align: middle;\n",
       "    }\n",
       "\n",
       "    .dataframe tbody tr th {\n",
       "        vertical-align: top;\n",
       "    }\n",
       "\n",
       "    .dataframe thead th {\n",
       "        text-align: right;\n",
       "    }\n",
       "</style>\n",
       "<table border=\"1\" class=\"dataframe\">\n",
       "  <thead>\n",
       "    <tr style=\"text-align: right;\">\n",
       "      <th></th>\n",
       "      <th>年別</th>\n",
       "      <th>觀光遊憩區</th>\n",
       "      <th>縣市別</th>\n",
       "      <th>1月</th>\n",
       "      <th>2月</th>\n",
       "      <th>3月</th>\n",
       "      <th>4月</th>\n",
       "      <th>5月</th>\n",
       "      <th>6月</th>\n",
       "      <th>7月</th>\n",
       "      <th>8月</th>\n",
       "      <th>9月</th>\n",
       "      <th>10月</th>\n",
       "      <th>11月</th>\n",
       "      <th>12月</th>\n",
       "      <th>合計</th>\n",
       "    </tr>\n",
       "  </thead>\n",
       "  <tbody>\n",
       "    <tr>\n",
       "      <th>0</th>\n",
       "      <td>2012</td>\n",
       "      <td>陽明山國家公園</td>\n",
       "      <td>臺北市</td>\n",
       "      <td>12187.0</td>\n",
       "      <td>18612.0</td>\n",
       "      <td>18580.0</td>\n",
       "      <td>13329.0</td>\n",
       "      <td>14179.0</td>\n",
       "      <td>11397.0</td>\n",
       "      <td>16000.0</td>\n",
       "      <td>11791.0</td>\n",
       "      <td>10469.0</td>\n",
       "      <td>11515.0</td>\n",
       "      <td>6896.0</td>\n",
       "      <td>9631.0</td>\n",
       "      <td>154586</td>\n",
       "    </tr>\n",
       "    <tr>\n",
       "      <th>1</th>\n",
       "      <td>2012</td>\n",
       "      <td>陽明山國家公園</td>\n",
       "      <td>臺北市</td>\n",
       "      <td>2597.0</td>\n",
       "      <td>3617.0</td>\n",
       "      <td>5221.0</td>\n",
       "      <td>4317.0</td>\n",
       "      <td>3497.0</td>\n",
       "      <td>2815.0</td>\n",
       "      <td>3005.0</td>\n",
       "      <td>2497.0</td>\n",
       "      <td>2764.0</td>\n",
       "      <td>3701.0</td>\n",
       "      <td>2863.0</td>\n",
       "      <td>2983.0</td>\n",
       "      <td>39877</td>\n",
       "    </tr>\n",
       "    <tr>\n",
       "      <th>2</th>\n",
       "      <td>2012</td>\n",
       "      <td>陽明山國家公園</td>\n",
       "      <td>臺北市</td>\n",
       "      <td>161000.0</td>\n",
       "      <td>463000.0</td>\n",
       "      <td>705200.0</td>\n",
       "      <td>85600.0</td>\n",
       "      <td>38600.0</td>\n",
       "      <td>28000.0</td>\n",
       "      <td>51700.0</td>\n",
       "      <td>44700.0</td>\n",
       "      <td>39000.0</td>\n",
       "      <td>36000.0</td>\n",
       "      <td>35000.0</td>\n",
       "      <td>33000.0</td>\n",
       "      <td>1720800</td>\n",
       "    </tr>\n",
       "    <tr>\n",
       "      <th>3</th>\n",
       "      <td>2012</td>\n",
       "      <td>陽明山國家公園</td>\n",
       "      <td>臺北市</td>\n",
       "      <td>17047.0</td>\n",
       "      <td>29079.0</td>\n",
       "      <td>38558.0</td>\n",
       "      <td>34332.0</td>\n",
       "      <td>43906.0</td>\n",
       "      <td>42586.0</td>\n",
       "      <td>63721.0</td>\n",
       "      <td>41881.0</td>\n",
       "      <td>51743.0</td>\n",
       "      <td>38214.0</td>\n",
       "      <td>27467.0</td>\n",
       "      <td>27306.0</td>\n",
       "      <td>455840</td>\n",
       "    </tr>\n",
       "    <tr>\n",
       "      <th>4</th>\n",
       "      <td>2012</td>\n",
       "      <td>陽明山國家公園</td>\n",
       "      <td>臺北市</td>\n",
       "      <td>21201.0</td>\n",
       "      <td>22134.0</td>\n",
       "      <td>62447.0</td>\n",
       "      <td>64691.0</td>\n",
       "      <td>16243.0</td>\n",
       "      <td>15811.0</td>\n",
       "      <td>15787.0</td>\n",
       "      <td>16963.0</td>\n",
       "      <td>16176.0</td>\n",
       "      <td>18951.0</td>\n",
       "      <td>18136.0</td>\n",
       "      <td>19135.0</td>\n",
       "      <td>307675</td>\n",
       "    </tr>\n",
       "    <tr>\n",
       "      <th>...</th>\n",
       "      <td>...</td>\n",
       "      <td>...</td>\n",
       "      <td>...</td>\n",
       "      <td>...</td>\n",
       "      <td>...</td>\n",
       "      <td>...</td>\n",
       "      <td>...</td>\n",
       "      <td>...</td>\n",
       "      <td>...</td>\n",
       "      <td>...</td>\n",
       "      <td>...</td>\n",
       "      <td>...</td>\n",
       "      <td>...</td>\n",
       "      <td>...</td>\n",
       "      <td>...</td>\n",
       "      <td>...</td>\n",
       "    </tr>\n",
       "    <tr>\n",
       "      <th>2737</th>\n",
       "      <td>2020</td>\n",
       "      <td>-</td>\n",
       "      <td>臺北市</td>\n",
       "      <td>22899.0</td>\n",
       "      <td>29229.0</td>\n",
       "      <td>25656.0</td>\n",
       "      <td>14781.0</td>\n",
       "      <td>21475.0</td>\n",
       "      <td>18011.0</td>\n",
       "      <td>14923.0</td>\n",
       "      <td>9908.0</td>\n",
       "      <td>12431.0</td>\n",
       "      <td>23920.0</td>\n",
       "      <td>20569.0</td>\n",
       "      <td>20802.0</td>\n",
       "      <td>234604</td>\n",
       "    </tr>\n",
       "    <tr>\n",
       "      <th>2738</th>\n",
       "      <td>2020</td>\n",
       "      <td>-</td>\n",
       "      <td>桃園市</td>\n",
       "      <td>445198.0</td>\n",
       "      <td>411077.0</td>\n",
       "      <td>369413.0</td>\n",
       "      <td>332659.0</td>\n",
       "      <td>379552.0</td>\n",
       "      <td>373923.0</td>\n",
       "      <td>422246.0</td>\n",
       "      <td>474878.0</td>\n",
       "      <td>296506.0</td>\n",
       "      <td>534701.0</td>\n",
       "      <td>508443.0</td>\n",
       "      <td>342426.0</td>\n",
       "      <td>4891022</td>\n",
       "    </tr>\n",
       "    <tr>\n",
       "      <th>2739</th>\n",
       "      <td>2020</td>\n",
       "      <td>-</td>\n",
       "      <td>臺中市</td>\n",
       "      <td>82671.0</td>\n",
       "      <td>133445.0</td>\n",
       "      <td>67056.0</td>\n",
       "      <td>62238.0</td>\n",
       "      <td>87152.0</td>\n",
       "      <td>128201.0</td>\n",
       "      <td>129064.0</td>\n",
       "      <td>124163.0</td>\n",
       "      <td>87666.0</td>\n",
       "      <td>90910.0</td>\n",
       "      <td>50475.0</td>\n",
       "      <td>34575.0</td>\n",
       "      <td>1077616</td>\n",
       "    </tr>\n",
       "    <tr>\n",
       "      <th>2740</th>\n",
       "      <td>2020</td>\n",
       "      <td>-</td>\n",
       "      <td>臺中市</td>\n",
       "      <td>17199.0</td>\n",
       "      <td>12453.0</td>\n",
       "      <td>6093.0</td>\n",
       "      <td>6882.0</td>\n",
       "      <td>7485.0</td>\n",
       "      <td>13442.0</td>\n",
       "      <td>13712.0</td>\n",
       "      <td>17648.0</td>\n",
       "      <td>11595.0</td>\n",
       "      <td>25481.0</td>\n",
       "      <td>22401.0</td>\n",
       "      <td>20490.0</td>\n",
       "      <td>174881</td>\n",
       "    </tr>\n",
       "    <tr>\n",
       "      <th>2741</th>\n",
       "      <td>2020</td>\n",
       "      <td>-</td>\n",
       "      <td>臺中市</td>\n",
       "      <td>106129.0</td>\n",
       "      <td>82834.0</td>\n",
       "      <td>42084.0</td>\n",
       "      <td>26631.0</td>\n",
       "      <td>41707.0</td>\n",
       "      <td>56324.0</td>\n",
       "      <td>89589.0</td>\n",
       "      <td>80947.0</td>\n",
       "      <td>113214.0</td>\n",
       "      <td>158458.0</td>\n",
       "      <td>106662.0</td>\n",
       "      <td>92923.0</td>\n",
       "      <td>997502</td>\n",
       "    </tr>\n",
       "  </tbody>\n",
       "</table>\n",
       "<p>2741 rows × 16 columns</p>\n",
       "</div>"
      ],
      "text/plain": [
       "        年別    觀光遊憩區  縣市別        1月        2月        3月        4月        5月  \\\n",
       "0     2012  陽明山國家公園  臺北市   12187.0   18612.0   18580.0   13329.0   14179.0   \n",
       "1     2012  陽明山國家公園  臺北市    2597.0    3617.0    5221.0    4317.0    3497.0   \n",
       "2     2012  陽明山國家公園  臺北市  161000.0  463000.0  705200.0   85600.0   38600.0   \n",
       "3     2012  陽明山國家公園  臺北市   17047.0   29079.0   38558.0   34332.0   43906.0   \n",
       "4     2012  陽明山國家公園  臺北市   21201.0   22134.0   62447.0   64691.0   16243.0   \n",
       "...    ...      ...  ...       ...       ...       ...       ...       ...   \n",
       "2737  2020        -  臺北市   22899.0   29229.0   25656.0   14781.0   21475.0   \n",
       "2738  2020        -  桃園市  445198.0  411077.0  369413.0  332659.0  379552.0   \n",
       "2739  2020        -  臺中市   82671.0  133445.0   67056.0   62238.0   87152.0   \n",
       "2740  2020        -  臺中市   17199.0   12453.0    6093.0    6882.0    7485.0   \n",
       "2741  2020        -  臺中市  106129.0   82834.0   42084.0   26631.0   41707.0   \n",
       "\n",
       "            6月        7月        8月        9月       10月       11月       12月  \\\n",
       "0      11397.0   16000.0   11791.0   10469.0   11515.0    6896.0    9631.0   \n",
       "1       2815.0    3005.0    2497.0    2764.0    3701.0    2863.0    2983.0   \n",
       "2      28000.0   51700.0   44700.0   39000.0   36000.0   35000.0   33000.0   \n",
       "3      42586.0   63721.0   41881.0   51743.0   38214.0   27467.0   27306.0   \n",
       "4      15811.0   15787.0   16963.0   16176.0   18951.0   18136.0   19135.0   \n",
       "...        ...       ...       ...       ...       ...       ...       ...   \n",
       "2737   18011.0   14923.0    9908.0   12431.0   23920.0   20569.0   20802.0   \n",
       "2738  373923.0  422246.0  474878.0  296506.0  534701.0  508443.0  342426.0   \n",
       "2739  128201.0  129064.0  124163.0   87666.0   90910.0   50475.0   34575.0   \n",
       "2740   13442.0   13712.0   17648.0   11595.0   25481.0   22401.0   20490.0   \n",
       "2741   56324.0   89589.0   80947.0  113214.0  158458.0  106662.0   92923.0   \n",
       "\n",
       "           合計  \n",
       "0      154586  \n",
       "1       39877  \n",
       "2     1720800  \n",
       "3      455840  \n",
       "4      307675  \n",
       "...       ...  \n",
       "2737   234604  \n",
       "2738  4891022  \n",
       "2739  1077616  \n",
       "2740   174881  \n",
       "2741   997502  \n",
       "\n",
       "[2741 rows x 16 columns]"
      ]
     },
     "execution_count": 3,
     "metadata": {},
     "output_type": "execute_result"
    }
   ],
   "source": [
    "df2 = df1.drop(columns=['類型','細分'])\n",
    "df2"
   ]
  },
  {
   "cell_type": "code",
   "execution_count": 4,
   "metadata": {},
   "outputs": [
    {
     "name": "stdout",
     "output_type": "stream",
     "text": [
      "<class 'pandas.core.frame.DataFrame'>\n",
      "Index: 2741 entries, 0 to 2741\n",
      "Data columns (total 16 columns):\n",
      " #   Column  Non-Null Count  Dtype  \n",
      "---  ------  --------------  -----  \n",
      " 0   年別      2741 non-null   object \n",
      " 1   觀光遊憩區   2741 non-null   object \n",
      " 2   縣市別     2741 non-null   object \n",
      " 3   1月      2741 non-null   float64\n",
      " 4   2月      2741 non-null   float64\n",
      " 5   3月      2741 non-null   float64\n",
      " 6   4月      2741 non-null   float64\n",
      " 7   5月      2741 non-null   float64\n",
      " 8   6月      2741 non-null   float64\n",
      " 9   7月      2741 non-null   float64\n",
      " 10  8月      2741 non-null   float64\n",
      " 11  9月      2741 non-null   float64\n",
      " 12  10月     2741 non-null   float64\n",
      " 13  11月     2741 non-null   float64\n",
      " 14  12月     2741 non-null   float64\n",
      " 15  合計      2741 non-null   int64  \n",
      "dtypes: float64(12), int64(1), object(3)\n",
      "memory usage: 364.0+ KB\n"
     ]
    }
   ],
   "source": [
    "df2 = df1.drop(columns=['類型','細分'])\n",
    "df2['年別'] = df2['年別'].astype(str)\n",
    "df2.info()"
   ]
  },
  {
   "cell_type": "code",
   "execution_count": 5,
   "metadata": {},
   "outputs": [
    {
     "data": {
      "text/plain": [
       "(2741, 13)"
      ]
     },
     "execution_count": 5,
     "metadata": {},
     "output_type": "execute_result"
    }
   ],
   "source": [
    "df3 = df2.set_index(keys=['年別','觀光遊憩區','縣市別'])\n",
    "df3.columns.name='月份'\n",
    "df3.shape"
   ]
  },
  {
   "cell_type": "code",
   "execution_count": 6,
   "metadata": {},
   "outputs": [
    {
     "data": {
      "text/plain": [
       "(35633,)"
      ]
     },
     "execution_count": 6,
     "metadata": {},
     "output_type": "execute_result"
    }
   ],
   "source": [
    "df4 = df3.stack(level='月份')\n",
    "df4.shape"
   ]
  },
  {
   "cell_type": "code",
   "execution_count": 7,
   "metadata": {},
   "outputs": [
    {
     "data": {
      "text/plain": [
       "<bound method Series.info of 年別    觀光遊憩區    縣市別  月份 \n",
       "2012  陽明山國家公園  臺北市  1月      12187.0\n",
       "                    2月      18612.0\n",
       "                    3月      18580.0\n",
       "                    4月      13329.0\n",
       "                    5月      14179.0\n",
       "                             ...   \n",
       "2020  -        臺中市  9月     113214.0\n",
       "                    10月    158458.0\n",
       "                    11月    106662.0\n",
       "                    12月     92923.0\n",
       "                    合計     997502.0\n",
       "Length: 35633, dtype: float64>"
      ]
     },
     "metadata": {},
     "output_type": "display_data"
    },
    {
     "data": {
      "text/plain": [
       "Index(['1月', '2月', '3月', '4月', '5月', '6月', '7月', '8月', '9月', '10月',\n",
       "       ...\n",
       "       '4月', '5月', '6月', '7月', '8月', '9月', '10月', '11月', '12月', '合計'],\n",
       "      dtype='object', name='月份', length=35633)"
      ]
     },
     "execution_count": 7,
     "metadata": {},
     "output_type": "execute_result"
    }
   ],
   "source": [
    "display(df4.info)\n",
    "df4.index.get_level_values(level='月份')"
   ]
  },
  {
   "cell_type": "code",
   "execution_count": 8,
   "metadata": {},
   "outputs": [
    {
     "data": {
      "text/plain": [
       "Index(['臺北市', '臺北市', '臺北市', '臺北市', '臺北市', '臺北市', '臺北市', '臺北市', '臺北市', '臺北市',\n",
       "       ...\n",
       "       '臺中市', '臺中市', '臺中市', '臺中市', '臺中市', '臺中市', '臺中市', '臺中市', '臺中市', '臺中市'],\n",
       "      dtype='object', name='縣市別', length=35633)"
      ]
     },
     "execution_count": 8,
     "metadata": {},
     "output_type": "execute_result"
    }
   ],
   "source": [
    "#索引的值有重覆,無法作unstack()\n",
    "df4.index.get_level_values(level='縣市別')"
   ]
  },
  {
   "cell_type": "code",
   "execution_count": 9,
   "metadata": {},
   "outputs": [
    {
     "ename": "ValueError",
     "evalue": "Index contains duplicate entries, cannot reshape",
     "output_type": "error",
     "traceback": [
      "\u001b[0;31m---------------------------------------------------------------------------\u001b[0m",
      "\u001b[0;31mValueError\u001b[0m                                Traceback (most recent call last)",
      "Cell \u001b[0;32mIn[9], line 1\u001b[0m\n\u001b[0;32m----> 1\u001b[0m \u001b[43mdf4\u001b[49m\u001b[38;5;241;43m.\u001b[39;49m\u001b[43munstack\u001b[49m\u001b[43m(\u001b[49m\u001b[43mlevel\u001b[49m\u001b[38;5;241;43m=\u001b[39;49m\u001b[38;5;124;43m'\u001b[39;49m\u001b[38;5;124;43m月份\u001b[39;49m\u001b[38;5;124;43m'\u001b[39;49m\u001b[43m)\u001b[49m\n",
      "File \u001b[0;32m~/.local/lib/python3.10/site-packages/pandas/core/series.py:4615\u001b[0m, in \u001b[0;36mSeries.unstack\u001b[0;34m(self, level, fill_value, sort)\u001b[0m\n\u001b[1;32m   4570\u001b[0m \u001b[38;5;250m\u001b[39m\u001b[38;5;124;03m\"\"\"\u001b[39;00m\n\u001b[1;32m   4571\u001b[0m \u001b[38;5;124;03mUnstack, also known as pivot, Series with MultiIndex to produce DataFrame.\u001b[39;00m\n\u001b[1;32m   4572\u001b[0m \n\u001b[0;32m   (...)\u001b[0m\n\u001b[1;32m   4611\u001b[0m \u001b[38;5;124;03mb    2    4\u001b[39;00m\n\u001b[1;32m   4612\u001b[0m \u001b[38;5;124;03m\"\"\"\u001b[39;00m\n\u001b[1;32m   4613\u001b[0m \u001b[38;5;28;01mfrom\u001b[39;00m \u001b[38;5;21;01mpandas\u001b[39;00m\u001b[38;5;21;01m.\u001b[39;00m\u001b[38;5;21;01mcore\u001b[39;00m\u001b[38;5;21;01m.\u001b[39;00m\u001b[38;5;21;01mreshape\u001b[39;00m\u001b[38;5;21;01m.\u001b[39;00m\u001b[38;5;21;01mreshape\u001b[39;00m \u001b[38;5;28;01mimport\u001b[39;00m unstack\n\u001b[0;32m-> 4615\u001b[0m \u001b[38;5;28;01mreturn\u001b[39;00m \u001b[43munstack\u001b[49m\u001b[43m(\u001b[49m\u001b[38;5;28;43mself\u001b[39;49m\u001b[43m,\u001b[49m\u001b[43m \u001b[49m\u001b[43mlevel\u001b[49m\u001b[43m,\u001b[49m\u001b[43m \u001b[49m\u001b[43mfill_value\u001b[49m\u001b[43m,\u001b[49m\u001b[43m \u001b[49m\u001b[43msort\u001b[49m\u001b[43m)\u001b[49m\n",
      "File \u001b[0;32m~/.local/lib/python3.10/site-packages/pandas/core/reshape/reshape.py:517\u001b[0m, in \u001b[0;36munstack\u001b[0;34m(obj, level, fill_value, sort)\u001b[0m\n\u001b[1;32m    515\u001b[0m \u001b[38;5;28;01mif\u001b[39;00m is_1d_only_ea_dtype(obj\u001b[38;5;241m.\u001b[39mdtype):\n\u001b[1;32m    516\u001b[0m     \u001b[38;5;28;01mreturn\u001b[39;00m _unstack_extension_series(obj, level, fill_value, sort\u001b[38;5;241m=\u001b[39msort)\n\u001b[0;32m--> 517\u001b[0m unstacker \u001b[38;5;241m=\u001b[39m \u001b[43m_Unstacker\u001b[49m\u001b[43m(\u001b[49m\n\u001b[1;32m    518\u001b[0m \u001b[43m    \u001b[49m\u001b[43mobj\u001b[49m\u001b[38;5;241;43m.\u001b[39;49m\u001b[43mindex\u001b[49m\u001b[43m,\u001b[49m\u001b[43m \u001b[49m\u001b[43mlevel\u001b[49m\u001b[38;5;241;43m=\u001b[39;49m\u001b[43mlevel\u001b[49m\u001b[43m,\u001b[49m\u001b[43m \u001b[49m\u001b[43mconstructor\u001b[49m\u001b[38;5;241;43m=\u001b[39;49m\u001b[43mobj\u001b[49m\u001b[38;5;241;43m.\u001b[39;49m\u001b[43m_constructor_expanddim\u001b[49m\u001b[43m,\u001b[49m\u001b[43m \u001b[49m\u001b[43msort\u001b[49m\u001b[38;5;241;43m=\u001b[39;49m\u001b[43msort\u001b[49m\n\u001b[1;32m    519\u001b[0m \u001b[43m\u001b[49m\u001b[43m)\u001b[49m\n\u001b[1;32m    520\u001b[0m \u001b[38;5;28;01mreturn\u001b[39;00m unstacker\u001b[38;5;241m.\u001b[39mget_result(\n\u001b[1;32m    521\u001b[0m     obj\u001b[38;5;241m.\u001b[39m_values, value_columns\u001b[38;5;241m=\u001b[39m\u001b[38;5;28;01mNone\u001b[39;00m, fill_value\u001b[38;5;241m=\u001b[39mfill_value\n\u001b[1;32m    522\u001b[0m )\n",
      "File \u001b[0;32m~/.local/lib/python3.10/site-packages/pandas/core/reshape/reshape.py:154\u001b[0m, in \u001b[0;36m_Unstacker.__init__\u001b[0;34m(self, index, level, constructor, sort)\u001b[0m\n\u001b[1;32m    146\u001b[0m \u001b[38;5;28;01mif\u001b[39;00m num_cells \u001b[38;5;241m>\u001b[39m np\u001b[38;5;241m.\u001b[39miinfo(np\u001b[38;5;241m.\u001b[39mint32)\u001b[38;5;241m.\u001b[39mmax:\n\u001b[1;32m    147\u001b[0m     warnings\u001b[38;5;241m.\u001b[39mwarn(\n\u001b[1;32m    148\u001b[0m         \u001b[38;5;124mf\u001b[39m\u001b[38;5;124m\"\u001b[39m\u001b[38;5;124mThe following operation may generate \u001b[39m\u001b[38;5;132;01m{\u001b[39;00mnum_cells\u001b[38;5;132;01m}\u001b[39;00m\u001b[38;5;124m cells \u001b[39m\u001b[38;5;124m\"\u001b[39m\n\u001b[1;32m    149\u001b[0m         \u001b[38;5;124mf\u001b[39m\u001b[38;5;124m\"\u001b[39m\u001b[38;5;124min the resulting pandas object.\u001b[39m\u001b[38;5;124m\"\u001b[39m,\n\u001b[1;32m    150\u001b[0m         PerformanceWarning,\n\u001b[1;32m    151\u001b[0m         stacklevel\u001b[38;5;241m=\u001b[39mfind_stack_level(),\n\u001b[1;32m    152\u001b[0m     )\n\u001b[0;32m--> 154\u001b[0m \u001b[38;5;28;43mself\u001b[39;49m\u001b[38;5;241;43m.\u001b[39;49m\u001b[43m_make_selectors\u001b[49m\u001b[43m(\u001b[49m\u001b[43m)\u001b[49m\n",
      "File \u001b[0;32m~/.local/lib/python3.10/site-packages/pandas/core/reshape/reshape.py:210\u001b[0m, in \u001b[0;36m_Unstacker._make_selectors\u001b[0;34m(self)\u001b[0m\n\u001b[1;32m    207\u001b[0m mask\u001b[38;5;241m.\u001b[39mput(selector, \u001b[38;5;28;01mTrue\u001b[39;00m)\n\u001b[1;32m    209\u001b[0m \u001b[38;5;28;01mif\u001b[39;00m mask\u001b[38;5;241m.\u001b[39msum() \u001b[38;5;241m<\u001b[39m \u001b[38;5;28mlen\u001b[39m(\u001b[38;5;28mself\u001b[39m\u001b[38;5;241m.\u001b[39mindex):\n\u001b[0;32m--> 210\u001b[0m     \u001b[38;5;28;01mraise\u001b[39;00m \u001b[38;5;167;01mValueError\u001b[39;00m(\u001b[38;5;124m\"\u001b[39m\u001b[38;5;124mIndex contains duplicate entries, cannot reshape\u001b[39m\u001b[38;5;124m\"\u001b[39m)\n\u001b[1;32m    212\u001b[0m \u001b[38;5;28mself\u001b[39m\u001b[38;5;241m.\u001b[39mgroup_index \u001b[38;5;241m=\u001b[39m comp_index\n\u001b[1;32m    213\u001b[0m \u001b[38;5;28mself\u001b[39m\u001b[38;5;241m.\u001b[39mmask \u001b[38;5;241m=\u001b[39m mask\n",
      "\u001b[0;31mValueError\u001b[0m: Index contains duplicate entries, cannot reshape"
     ]
    }
   ],
   "source": [
    "\n",
    "df4.unstack(level='月份')"
   ]
  },
  {
   "cell_type": "code",
   "execution_count": 10,
   "metadata": {},
   "outputs": [
    {
     "data": {
      "text/plain": [
       "Index(['10月', '11月', '12月', '1月', '2月', '3月', '4月', '5月', '6月', '7月',\n",
       "       ...\n",
       "       '1月', '2月', '3月', '4月', '5月', '6月', '7月', '8月', '9月', '合計'],\n",
       "      dtype='object', name='月份', length=286)"
      ]
     },
     "execution_count": 10,
     "metadata": {},
     "output_type": "execute_result"
    }
   ],
   "source": [
    "df5 = df4.groupby(level=['縣市別','月份']).sum()\n",
    "df5.index.get_level_values('縣市別')\n",
    "df5.index.get_level_values('月份')"
   ]
  },
  {
   "cell_type": "code",
   "execution_count": 11,
   "metadata": {},
   "outputs": [
    {
     "data": {
      "text/plain": [
       "縣市別  月份 \n",
       "南投縣  10月     11630675.0\n",
       "     11月     11668019.0\n",
       "     12月     11118585.0\n",
       "     1月       9863804.0\n",
       "     2月      15470552.0\n",
       "               ...     \n",
       "高雄市  6月      15965843.0\n",
       "     7月      20859438.0\n",
       "     8月      19566066.0\n",
       "     9月      15940732.0\n",
       "     合計     275429217.0\n",
       "Length: 286, dtype: float64"
      ]
     },
     "execution_count": 11,
     "metadata": {},
     "output_type": "execute_result"
    }
   ],
   "source": [
    "df5"
   ]
  }
 ],
 "metadata": {
  "kernelspec": {
   "display_name": "Python 3",
   "language": "python",
   "name": "python3"
  },
  "language_info": {
   "codemirror_mode": {
    "name": "ipython",
    "version": 3
   },
   "file_extension": ".py",
   "mimetype": "text/x-python",
   "name": "python",
   "nbconvert_exporter": "python",
   "pygments_lexer": "ipython3",
   "version": "3.10.15"
  }
 },
 "nbformat": 4,
 "nbformat_minor": 2
}
