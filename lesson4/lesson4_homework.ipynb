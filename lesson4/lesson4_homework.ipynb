{
 "cells": [
  {
   "cell_type": "markdown",
   "metadata": {},
   "source": [
    "- BMI計算器的練習"
   ]
  },
  {
   "cell_type": "code",
   "execution_count": 9,
   "metadata": {},
   "outputs": [
    {
     "name": "stdout",
     "output_type": "stream",
     "text": [
      "請輸入身高(公分):158\n",
      "請輸入體重(公斤):59\n",
      "您的BMI值:23.63\n",
      "您的體重：正常\n"
     ]
    }
   ],
   "source": [
    "try:\n",
    "    height=eval(input('請輸入身高(公分):'))\n",
    "    weight=eval(input('請輸入體重(公斤):'))\n",
    "    BMI=weight/(height/100)**2\n",
    "    print(f'請輸入身高(公分):{height}')\n",
    "    print(f'請輸入體重(公斤):{weight}')\n",
    "    print(f'您的BMI值:{BMI:.2f}')\n",
    "    if BMI>=35:\n",
    "        print('您的體重：重度肥胖')\n",
    "    elif BMI>=30:\n",
    "        print('您的體重：中度肥胖')\n",
    "    elif BMI>=27:\n",
    "        print('您的體重：輕度肥胖')\n",
    "    elif BMI>=24:\n",
    "        print('您的體重：過重')\n",
    "    elif BMI>=18.5:\n",
    "        print('您的體重：正常')\n",
    "    else:\n",
    "        print('您的體重：過輕')\n",
    "\n",
    "except SyntaxError:\n",
    "    print('輸入格式錯誤')\n",
    "except Exception:\n",
    "    print('不知名的錯誤')"
   ]
  }
 ],
 "metadata": {
  "kernelspec": {
   "display_name": "Python 3",
   "language": "python",
   "name": "python3"
  },
  "language_info": {
   "codemirror_mode": {
    "name": "ipython",
    "version": 3
   },
   "file_extension": ".py",
   "mimetype": "text/x-python",
   "name": "python",
   "nbconvert_exporter": "python",
   "pygments_lexer": "ipython3",
   "version": "3.10.15"
  }
 },
 "nbformat": 4,
 "nbformat_minor": 2
}
