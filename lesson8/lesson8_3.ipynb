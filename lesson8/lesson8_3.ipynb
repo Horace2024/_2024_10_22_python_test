{
 "cells": [
  {
   "cell_type": "code",
   "execution_count": 1,
   "metadata": {},
   "outputs": [
    {
     "name": "stdout",
     "output_type": "stream",
     "text": [
      "陳姵彬\n",
      "張俊傑\n",
      "吳晴洋\n",
      "蘇凡菁\n",
      "黎惠雯\n"
     ]
    }
   ],
   "source": [
    "import random\n",
    "def get_names(nums:int=2)->list[str]:\n",
    "    with open('names.txt',encoding='utf-8',mode='r') as file:\n",
    "        names_str = file.read()\n",
    "    names:list[str] = names_str.split(sep='\\n')\n",
    "    names = random.choices(names,k=nums)\n",
    "    return names\n",
    "\n",
    "nums = int(input('請輸入學生數量(最多10位):'))\n",
    "student_names:list[str] = get_names(nums=nums)\n",
    "for name in student_names:\n",
    "    print(name)"
   ]
  },
  {
   "cell_type": "code",
   "execution_count": 2,
   "metadata": {},
   "outputs": [],
   "source": [
    "def generate_students(names:list[str]) -> list[dict]:\n",
    "    pass"
   ]
  },
  {
   "cell_type": "code",
   "execution_count": 3,
   "metadata": {},
   "outputs": [],
   "source": [
    "generate_students(names=student_names)"
   ]
  },
  {
   "cell_type": "code",
   "execution_count": 4,
   "metadata": {},
   "outputs": [],
   "source": [
    "def generate_students(names:list[str]) -> list[dict]:\n",
    "    for name in names:\n",
    "        print(name)\n",
    "        chinese = random.randint(50, 100)\n",
    "        print(chinese)\n",
    "        english = random.randint(50, 100)\n",
    "        print(english)\n",
    "        math = random.randint(50, 100)\n",
    "        print(math)\n",
    "        print(\"=================\")"
   ]
  },
  {
   "cell_type": "code",
   "execution_count": 6,
   "metadata": {},
   "outputs": [
    {
     "name": "stdout",
     "output_type": "stream",
     "text": [
      "陳姵彬\n",
      "96\n",
      "70\n",
      "99\n",
      "=================\n",
      "張俊傑\n",
      "62\n",
      "54\n",
      "79\n",
      "=================\n",
      "吳晴洋\n",
      "56\n",
      "75\n",
      "71\n",
      "=================\n",
      "蘇凡菁\n",
      "89\n",
      "86\n",
      "76\n",
      "=================\n",
      "黎惠雯\n",
      "88\n",
      "61\n",
      "100\n",
      "=================\n"
     ]
    }
   ],
   "source": [
    "generate_students(names=student_names)"
   ]
  },
  {
   "cell_type": "code",
   "execution_count": null,
   "metadata": {},
   "outputs": [],
   "source": []
  },
  {
   "cell_type": "code",
   "execution_count": null,
   "metadata": {},
   "outputs": [],
   "source": [
    "def generate_students(names:list[str]) -> list[dict]:\n",
    "    students:list[dict] = []\n",
    "    for name in names:\n",
    "        chinese = random.randint(50, 100)\n",
    "        english = random.randint(50, 100)\n",
    "        math = random.randint(50, 100)\n",
    "        student = {'name':name,'chinese':chinese,'english':english,'math':math}\n",
    "        students.append(student)\n",
    "    return students  "
   ]
  },
  {
   "cell_type": "code",
   "execution_count": 8,
   "metadata": {},
   "outputs": [
    {
     "data": {
      "text/plain": [
       "[{'name': '陳姵彬', 'chinese': 64, 'english': 75, 'math': 84},\n",
       " {'name': '張俊傑', 'chinese': 66, 'english': 85, 'math': 72},\n",
       " {'name': '吳晴洋', 'chinese': 93, 'english': 84, 'math': 70},\n",
       " {'name': '蘇凡菁', 'chinese': 94, 'english': 65, 'math': 98},\n",
       " {'name': '黎惠雯', 'chinese': 94, 'english': 84, 'math': 70}]"
      ]
     },
     "execution_count": 8,
     "metadata": {},
     "output_type": "execute_result"
    }
   ],
   "source": [
    "students = generate_students(names=student_names)\n",
    "students"
   ]
  }
 ],
 "metadata": {
  "kernelspec": {
   "display_name": "Python 3",
   "language": "python",
   "name": "python3"
  },
  "language_info": {
   "codemirror_mode": {
    "name": "ipython",
    "version": 3
   },
   "file_extension": ".py",
   "mimetype": "text/x-python",
   "name": "python",
   "nbconvert_exporter": "python",
   "pygments_lexer": "ipython3",
   "version": "3.10.15"
  }
 },
 "nbformat": 4,
 "nbformat_minor": 2
}
